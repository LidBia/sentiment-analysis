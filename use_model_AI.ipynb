{
 "cells": [
  {
   "cell_type": "code",
   "execution_count": 9,
   "metadata": {
    "collapsed": false
   },
   "outputs": [],
   "source": [
    "import pickle\n",
    "from tensorflow import keras\n",
    "from tensorflow.keras.preprocessing.sequence import pad_sequences\n",
    "\n",
    "model = keras.models.load_model('newmodel.h5')\n",
    "\n",
    "with open('tokenizer.pickle', 'rb') as handle:\n",
    "    tokenizer = pickle.load(handle)\n",
    "\n",
    "sentiment_labels = ['negative', 'neutral', 'positive']\n",
    "max_length=400\n",
    "def classify_sentiment(text):\n",
    "    sequence = tokenizer.texts_to_sequences([text])\n",
    "    sequence_padded = pad_sequences(sequence, maxlen=max_length, padding='post')\n",
    "    prediction = model.predict(sequence_padded)\n",
    "    sentiment = sentiment_labels[prediction.argmax()]\n",
    "    return sentiment"
   ]
  },
  {
   "cell_type": "code",
   "execution_count": 8,
   "metadata": {
    "collapsed": false
   },
   "outputs": [
    {
     "name": "stdout",
     "output_type": "stream",
     "text": [
      "1/1 [==============================] - 0s 148ms/step\n",
      "Sentiment: negative\n"
     ]
    }
   ],
   "source": [
    "input_text = \"bad job\"\n",
    "classification = classify_sentiment(input_text)\n",
    "print(\"Sentiment:\", classification)"
   ]
  }
 ],
 "metadata": {
  "kernelspec": {
   "display_name": "Python 3",
   "language": "python",
   "name": "python3"
  },
  "language_info": {
   "codemirror_mode": {
    "name": "ipython",
    "version": 3
   },
   "file_extension": ".py",
   "mimetype": "text/x-python",
   "name": "python",
   "nbconvert_exporter": "python",
   "pygments_lexer": "ipython3",
   "version": "3.9.12"
  }
 },
 "nbformat": 4,
 "nbformat_minor": 0
}
